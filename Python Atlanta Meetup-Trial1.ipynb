{
 "cells": [
  {
   "cell_type": "code",
   "execution_count": 3,
   "metadata": {
    "collapsed": false
   },
   "outputs": [],
   "source": [
    "from __future__ import unicode_literals\n",
    "import requests\n",
    "import json\n",
    "import time\n",
    "import codecs\n",
    "import sys\n",
    "import pandas\n",
    "import datetime\n",
    "from time import gmtime, strftime\n",
    "UTF8Writer = codecs.getwriter('utf8')\n",
    "sys.stdout = UTF8Writer(sys.stdout)"
   ]
  },
  {
   "cell_type": "code",
   "execution_count": 4,
   "metadata": {
    "collapsed": false
   },
   "outputs": [],
   "source": [
    "def get_group_results(params):\n",
    "    request = requests.get(\"http://api.meetup.com/2/groups\",params=params)\n",
    "    data = request.json()\n",
    "    return data"
   ]
  },
  {
   "cell_type": "code",
   "execution_count": 5,
   "metadata": {
    "collapsed": true
   },
   "outputs": [],
   "source": [
    "from datetime import datetime, timedelta\n",
    "from pytz import timezone\n",
    "import pytz  \n",
    "\n",
    "def date_conversion(date):\n",
    "    utc = pytz.utc  \n",
    "    date = date/1000\n",
    "    utc_dt =utc.localize(datetime.utcfromtimestamp(date))\n",
    "    return(utc_dt.strftime('%Y-%m-%d %H:%M:%S'))"
   ]
  },
  {
   "cell_type": "code",
   "execution_count": 7,
   "metadata": {
    "collapsed": false
   },
   "outputs": [],
   "source": [
    "def get_group_data():\n",
    "        data =[]\n",
    "        cities =[(\"Atlanta\",\"GA\")]\n",
    "\n",
    "        #api_key= \n",
    "        # Get your key here https://secure.meetup.com/meetup_api/key/\n",
    "        for (city, state) in cities:\n",
    "            per_page = 200\n",
    "            results_we_got = per_page\n",
    "            offset = 0\n",
    "            while (results_we_got == per_page):\n",
    "                # Meetup.com documentation here: http://www.meetup.com/meetup_api/docs/2/groups/\n",
    "                response=get_group_results({\"sign\":\"true\",\n",
    "                                      \"country\":\"US\",\n",
    "                                      \"city\":city,\n",
    "                                      \"state\":state,\n",
    "                                      \"radius\": 10,\n",
    "                                      \"key\":api_key,\n",
    "                                      \"page\":per_page,\n",
    "                                      \"offset\":offset })\n",
    "                time.sleep(1)\n",
    "                offset += 1\n",
    "                results_we_got = response['meta']['count']\n",
    "                for group in response['results']:\n",
    "                    category = \"\"\n",
    "                    if \"category\" in group:\n",
    "                        category = group['category']['name']\n",
    "                    created =date_conversion(group['created'])   \n",
    "                    data.append([city, group['name'].replace(\",\",\" \"), \n",
    "                                         created, group['city'],\n",
    "                                         group.get('state',\"\"),category,group['members'], \n",
    "                                         group.get('who',\"\").replace(\",\",\" \")])\n",
    "\n",
    "                   \n",
    "            time.sleep(1)\n",
    "            data =pandas.DataFrame(data)\n",
    "            return (data)"
   ]
  },
  {
   "cell_type": "code",
   "execution_count": 8,
   "metadata": {
    "collapsed": true
   },
   "outputs": [],
   "source": [
    "def get_member_results(params):\n",
    "    request = requests.get(\"http://api.meetup.com/2/members\",params=params)\n",
    "    data = request.json()\n",
    "    request.close\n",
    "    return data"
   ]
  },
  {
   "cell_type": "code",
   "execution_count": 9,
   "metadata": {
    "collapsed": false
   },
   "outputs": [],
   "source": [
    "def get_member_data():\n",
    "        members =[]\n",
    "        groups =[(\"python-atlanta\")]\n",
    "        #api_key= \n",
    "        for group_urlname  in groups:\n",
    "            per_page = 200\n",
    "            results_we_got = per_page\n",
    "            offset = 0\n",
    "            while (results_we_got == per_page):\n",
    "                response=get_member_results({\"sign\":\"true\",\n",
    "                                      \"group_urlname\" : group_urlname,\n",
    "                                      \"key\":api_key,\n",
    "                                      \"page\":per_page,\n",
    "                                      \"offset\":offset })\n",
    "                time.sleep(1)\n",
    "                offset += 1\n",
    "                results_we_got = response['meta']['count']\n",
    "                for group in response['results']:\n",
    "                    for i in group['topics']:\n",
    "                        #members.append\n",
    "                        joined =date_conversion(group['joined']) \n",
    "                        visited =date_conversion(group['visited']) \n",
    "                        members.append(\n",
    "                        [joined,group['id'],visited,\n",
    "                        i['urlkey'], i['name'],i['id'],\n",
    "                        group['status'],group['city'],group['name']])\n",
    "                        \n",
    "                        \n",
    "        time.sleep(1)\n",
    "        members = pandas.DataFrame(members)\n",
    "        return (members)"
   ]
  },
  {
   "cell_type": "code",
   "execution_count": 7,
   "metadata": {
    "collapsed": false
   },
   "outputs": [],
   "source": [
    "def get_ga_data():\n",
    "        data =[]\n",
    "        api_key= \n",
    "        # Get your key here https://secure.meetup.com/meetup_api/key/\n",
    "        zipz={\"30009\",\"30060\",\"30101\",\"30150\",\"30151\",\"30152\",\"30153\",\"30154\",\"30156\",\"30157\",\"39885\",\n",
    "              \"39886\",\"39897\",\"39901\"}\n",
    "        count=0\n",
    "        for zips  in zipz:\n",
    "            count+=1\n",
    "            per_page = 200\n",
    "            results_we_got = per_page\n",
    "            offset = 0\n",
    "            while (results_we_got == per_page):\n",
    "                    # Meetup.com documentation here: http://www.meetup.com/meetup_api/docs/2/groups/\n",
    "                    response=get_group_results({\"sign\":\"true\",\n",
    "                                          \"country\":\"United States\",\n",
    "                                          \"state\":\"Georgia\",\n",
    "                                          \"radius\": 50,\n",
    "                                          \"zip\" :zips,\n",
    "                                          \"key\":api_key,\n",
    "                                          \"page\":per_page,\n",
    "                            \"offset\":offset })\n",
    "                    #print(response)\n",
    "                    time.sleep(1)\n",
    "                    offset += 1\n",
    "                    results_we_got = response['meta']['count']\n",
    "                    for group in response['results']:\n",
    "                        #for j in group[\"category\"]:\n",
    "                        #    name= group[\"category\"][\"name\"]\n",
    "                        #    idd = group[\"category\"][\"id\"]\n",
    "                        #    shortname= group[\"category\"][\"shortname\"]\n",
    "                        for i in group['topics']:\n",
    "                            created =date_conversion(group['created']) \n",
    "                            data.append(\n",
    "                            [group['urlname'],created,group['members'],group['rating'],group['join_mode'],\n",
    "                             group['state'],\n",
    "                             group['organizer']['member_id'],group['organizer']['member_id'],\n",
    "                             group['id'],\n",
    "                             #name,idd,shortname,\n",
    "                            i['urlkey'], i['name'],i['id'],\n",
    "                            group['timezone'],group['city'],group['visibility']\n",
    "                            ])\n",
    "            print(count)\n",
    "            #print(\"Zip Abstraction over\")\n",
    "        data =pandas.DataFrame(data)\n",
    "        print(\"Dataframe over\")\n",
    "        return (data)"
   ]
  },
  {
   "cell_type": "code",
   "execution_count": 14,
   "metadata": {
    "collapsed": false
   },
   "outputs": [],
   "source": [
    "#if __name__==\"__main__\":\n",
    "        #group =get_group_data()\n",
    "        #group.columns= ['city', 'group','created','city', 'state','category','members','who']\n",
    "        #member=get_member_data()\n",
    "        #member.columns =['joined','id','visited','groupkey', 'groupname','groupid',\n",
    "        #        'group_status','group_city','member_name']\n",
    "        #ga_groups =get_ga_data()"
   ]
  },
  {
   "cell_type": "code",
   "execution_count": 16,
   "metadata": {
    "collapsed": false
   },
   "outputs": [],
   "source": [
    "#ga_groups.drop_duplicates()\n"
   ]
  },
  {
   "cell_type": "code",
   "execution_count": 2,
   "metadata": {
    "collapsed": false
   },
   "outputs": [],
   "source": [
    "ga_groups.shape"
   ]
  }
 ],
 "metadata": {
  "kernelspec": {
   "display_name": "Python 2",
   "language": "python",
   "name": "python2"
  },
  "language_info": {
   "codemirror_mode": {
    "name": "ipython",
    "version": 2
   },
   "file_extension": ".py",
   "mimetype": "text/x-python",
   "name": "python",
   "nbconvert_exporter": "python",
   "pygments_lexer": "ipython2",
   "version": "2.7.10"
  }
 },
 "nbformat": 4,
 "nbformat_minor": 0
}
